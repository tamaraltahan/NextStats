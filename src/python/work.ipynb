{
 "cells": [
  {
   "cell_type": "code",
   "execution_count": null,
   "metadata": {},
   "outputs": [],
   "source": [
    "import requests\n",
    "import json\n",
    "import time\n",
    "import matplotlib.pyplot as plt\n",
    "%matplotlib inline"
   ]
  },
  {
   "cell_type": "code",
   "execution_count": null,
   "metadata": {},
   "outputs": [],
   "source": []
  },
  {
   "cell_type": "code",
   "execution_count": null,
   "metadata": {},
   "outputs": [],
   "source": [
    "def openRecentMatches(id):\n",
    "    url = 'https://api.opendota.com/api/players/{}/recentMatches'.format(id)\n",
    "    # Get the data from the API\n",
    "    r = requests.get(url)\n",
    "    # Convert the data to a JSON object\n",
    "    recents = r.json\n",
    "    return recents"
   ]
  },
  {
   "cell_type": "code",
   "execution_count": null,
   "metadata": {},
   "outputs": [],
   "source": [
    "def getPlayersFromMatches(id, data):\n",
    "    \"\"\"\n",
    "    Returns all players ID's in the user's last 20 matches\n",
    "\n",
    "\n",
    "    Args:\n",
    "        id (int): player's steam32 ID\n",
    "        data: JSON object of thee recentMatches API call\n",
    "\n",
    "    Returns:\n",
    "        pIDs: A list of non-duplicate player ID's in 20 game match history.\n",
    "    \"\"\"\n",
    "    match_ids = []\n",
    "    players = []\n",
    "    pIDs = []\n",
    "    \n",
    "    # Loop through the matches and add the match ids to the list\n",
    "    for match in data:\n",
    "        match_ids.append(match['match_id'])\n",
    "    # Loop through the match ids and get the player ids\n",
    "    for match in match_ids:\n",
    "        url = 'https://api.opendota.com/api/matches/{}'.format(match)\n",
    "        r = requests.get(url)\n",
    "        data = r.json()\n",
    "        players.append(data['players'])\n",
    "    \n",
    "    # Loop through the player ids and add them to the list\n",
    "    for player in players:\n",
    "        for p in player:\n",
    "            if p['account_id'] and p['account_id'] != id and p['account_id'] not in pIDs:\n",
    "                pIDs.append(p['account_id'])\n",
    "\n",
    "    return pIDs"
   ]
  },
  {
   "cell_type": "code",
   "execution_count": null,
   "metadata": {},
   "outputs": [],
   "source": [
    "def getPlayerWinRate(pIDs):\n",
    "    \"\"\"\n",
    "    Gets the winrate of all available players\n",
    "\n",
    "    Args:\n",
    "        pIDs (List): a list of player ID's\n",
    "\n",
    "\n",
    "    Returns:\n",
    "    \"\"\"\n",
    "    WL = {}\n",
    "    counter = 0\n",
    "    limit = len(pIDs)//4\n",
    "    # Loop through the player ids and get the win/loss\n",
    "    for pID in pIDs:\n",
    "        counter += 1\n",
    "        if counter == limit:\n",
    "            counter = 0\n",
    "            time.sleep(20)\n",
    "        if pID in WL:\n",
    "            print('{} already in WL'.format(pID))\n",
    "        url = 'https://api.opendota.com/api/players/{}/wl'.format(pID)\n",
    "        r = requests.get(url)\n",
    "        data = r.json()    \n",
    "        WL[pID] = data\n",
    "        # adds the win/loss to the WL dictionary\n",
    "        for player in WL:\n",
    "            WL[player]['total'] = WL[player]['win'] + WL[player]['lose']\n",
    "\n",
    "        playerData = WL\n",
    "\n",
    "        # adds the win percent to the WL dictionary\n",
    "        for player in playerData:\n",
    "            playerData[player]['winPercent'] = round((playerData[player]['win']/playerData[player]['total'])*100,2)\n",
    "\n"
   ]
  },
  {
   "cell_type": "code",
   "execution_count": null,
   "metadata": {},
   "outputs": [],
   "source": [
    "# returns the percent of non-anonymous players\n",
    "def anonProfiles(games,profiles):\n",
    "    expected = games * 9\n",
    "    actual = profiles\n",
    "    return round((actual/expected)*100,2)"
   ]
  },
  {
   "cell_type": "code",
   "execution_count": null,
   "metadata": {},
   "outputs": [],
   "source": [
    "def judgePlayers(playerData):\n",
    "    accountBuyers = 0\n",
    "    ABList = []\n",
    "    smurfCount = 0\n",
    "    smurfList = []\n",
    "    totalGamesThreshold = 1000\n",
    "    winThreshold = 55\n",
    "\n",
    "    for player in playerData:\n",
    "        if playerData[player]['total'] <= totalGamesThreshold:\n",
    "            accountBuyers += 1\n",
    "            ABList.append(player)\n",
    "            if playerData[player]['winPercent'] >= winThreshold:\n",
    "                smurfCount += 1\n",
    "                smurfList.append(player)\n"
   ]
  },
  {
   "cell_type": "code",
   "execution_count": null,
   "metadata": {},
   "outputs": [],
   "source": [
    "def plot(playerCount, accountBuyers, smurfCount):\n",
    "    normal = playerCount - accountBuyers\n",
    "    normalPercent = round((normal/playerCount)*100,2)\n",
    "    explode1 = [0,0.1]\n",
    "    explode2 = [0.1,0]\n",
    "    actors = plt.pie([accountBuyers,normal],labels=['Account Buyers','Normal'],autopct='%1.1f%%',explode=explode1,shadow=True,startangle=90)\n",
    "    smurfs = plt.pie([accountBuyers,smurfCount],labels=['Account Buyers','Smurfs'],autopct='%1.1f%%',explode=explode2,shadow=True,startangle=90)\n",
    "    fig, (AB,SMF) = plt.subplots(1,2,figsize=(10,10)) #ax1,ax2 refer to your two pies\n",
    "    fig.set_facecolor('#f2f2f2')\n",
    "    fig.tight_layout()\n",
    "    fig.subplots_adjust(wspace=0.5)\n",
    "\n",
    "    # 1,2 denotes 1 row, 2 columns - if you want to stack vertically, it would be 2,1\n",
    "    AB.pie([accountBuyers,normal],labels=['Account Buyers','Normal'],autopct='%1.1f%%',explode=explode1,shadow=True,startangle=90)\n",
    "    AB.title.set_text('Account Buyers to normal players')\n",
    "\n",
    "\n",
    "    SMF.pie([accountBuyers,smurfCount],labels=['Account Buyers','Smurfs'],autopct='%1.1f%%',explode=explode2,shadow=True,startangle=90)\n",
    "    SMF.title.set_text('Account Buyers to smurfs')\n"
   ]
  }
 ],
 "metadata": {
  "kernelspec": {
   "display_name": "Python 3",
   "language": "python",
   "name": "python3"
  },
  "language_info": {
   "name": "python",
   "version": "3.10.9"
  },
  "orig_nbformat": 4,
  "vscode": {
   "interpreter": {
    "hash": "ce3deec32a82c1fa70939f6dd209dc1f97ff2fdcd0e3b17579d41b9481dd726d"
   }
  }
 },
 "nbformat": 4,
 "nbformat_minor": 2
}
