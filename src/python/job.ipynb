{
 "cells": [
  {
   "cell_type": "code",
   "execution_count": 12,
   "metadata": {},
   "outputs": [],
   "source": [
    "from dataAggregator import gameStats\n",
    "import json\n",
    "#import sys"
   ]
  },
  {
   "cell_type": "code",
   "execution_count": 2,
   "metadata": {},
   "outputs": [],
   "source": [
    "#id = sys.argv[1]\n",
    "#me:\n",
    "#id = 1986753\n",
    "\n",
    "#mirza:\n",
    "id = 101664373\n",
    "\n",
    "#osama:\n",
    "#id = 110915293"
   ]
  },
  {
   "cell_type": "code",
   "execution_count": 3,
   "metadata": {},
   "outputs": [
    {
     "name": "stdout",
     "output_type": "stream",
     "text": [
      "0 game player found\n"
     ]
    }
   ],
   "source": [
    "Data = gameStats(id)"
   ]
  },
  {
   "cell_type": "code",
   "execution_count": 4,
   "metadata": {},
   "outputs": [],
   "source": [
    "dat = Data.getData()"
   ]
  },
  {
   "cell_type": "code",
   "execution_count": 5,
   "metadata": {},
   "outputs": [
    {
     "data": {
      "text/plain": [
       "{'meanWins': 51.40304347826087,\n",
       " 'meanTotal': 3974.623188405797,\n",
       " 'stdWins': 2.2715285760058697,\n",
       " 'stdTotal': 3166.6813492502974}"
      ]
     },
     "execution_count": 5,
     "metadata": {},
     "output_type": "execute_result"
    }
   ],
   "source": [
    "Data.getPlayerStats()"
   ]
  },
  {
   "cell_type": "code",
   "execution_count": 6,
   "metadata": {},
   "outputs": [
    {
     "data": {
      "text/plain": [
       "{'outlierWinsPositive': {210417653: {'win': 506,\n",
       "   'lose': 352,\n",
       "   'total': 858,\n",
       "   'winPercent': 58.97},\n",
       "  67099610: {'win': 1540, 'lose': 1256, 'total': 2796, 'winPercent': 55.08},\n",
       "  1220700485: {'win': 403, 'lose': 320, 'total': 723, 'winPercent': 55.74},\n",
       "  169333769: {'win': 2984, 'lose': 2301, 'total': 5285, 'winPercent': 56.46},\n",
       "  80581870: {'win': 4157, 'lose': 3231, 'total': 7388, 'winPercent': 56.27}},\n",
       " 'outlierTotalsPositive': {16918732: {'win': 6116,\n",
       "   'lose': 5919,\n",
       "   'total': 12035,\n",
       "   'winPercent': 50.82},\n",
       "  49124637: {'win': 8813, 'lose': 8807, 'total': 17620, 'winPercent': 50.02},\n",
       "  6239740: {'win': 6227, 'lose': 5717, 'total': 11944, 'winPercent': 52.13},\n",
       "  116100548: {'win': 6372, 'lose': 6332, 'total': 12704, 'winPercent': 50.16}},\n",
       " 'outliersWinsNegative': {411652122: {'win': 796,\n",
       "   'lose': 886,\n",
       "   'total': 1682,\n",
       "   'winPercent': 47.32},\n",
       "  966447608: {'win': 19, 'lose': 27, 'total': 46, 'winPercent': 41.3}},\n",
       " 'outliersTotalNegative': {},\n",
       " 'highWinLowGames': {},\n",
       " 'lowWinLowGames': {}}"
      ]
     },
     "execution_count": 6,
     "metadata": {},
     "output_type": "execute_result"
    }
   ],
   "source": [
    "Data.outlierData"
   ]
  },
  {
   "cell_type": "code",
   "execution_count": 9,
   "metadata": {},
   "outputs": [
    {
     "data": {
      "text/plain": [
       "{'playerData': {'79472579': {'win': 1370,\n",
       "   'lose': 1304,\n",
       "   'total': 2674,\n",
       "   'winPercent': 51.23},\n",
       "  '161391071': {'win': 2438, 'lose': 2324, 'total': 4762, 'winPercent': 51.2},\n",
       "  '198900798': {'win': 2028, 'lose': 1984, 'total': 4012, 'winPercent': 50.55},\n",
       "  '210417653': {'win': 506, 'lose': 352, 'total': 858, 'winPercent': 58.97},\n",
       "  '67099610': {'win': 1540, 'lose': 1256, 'total': 2796, 'winPercent': 55.08},\n",
       "  '1986753': {'win': 3364, 'lose': 3378, 'total': 6742, 'winPercent': 49.9},\n",
       "  '446274648': {'win': 1571, 'lose': 1552, 'total': 3123, 'winPercent': 50.3},\n",
       "  '1220700485': {'win': 403, 'lose': 320, 'total': 723, 'winPercent': 55.74},\n",
       "  '103553777': {'win': 2325, 'lose': 2196, 'total': 4521, 'winPercent': 51.43},\n",
       "  '83648474': {'win': 120, 'lose': 124, 'total': 244, 'winPercent': 49.18},\n",
       "  '86759661': {'win': 3601, 'lose': 3449, 'total': 7050, 'winPercent': 51.08},\n",
       "  '911545198': {'win': 1152, 'lose': 1060, 'total': 2212, 'winPercent': 52.08},\n",
       "  '115791930': {'win': 1690, 'lose': 1612, 'total': 3302, 'winPercent': 51.18},\n",
       "  '219191877': {'win': 1497, 'lose': 1441, 'total': 2938, 'winPercent': 50.95},\n",
       "  '16918732': {'win': 6116, 'lose': 5919, 'total': 12035, 'winPercent': 50.82},\n",
       "  '369993022': {'win': 1090, 'lose': 1031, 'total': 2121, 'winPercent': 51.39},\n",
       "  '138346302': {'win': 3322, 'lose': 3158, 'total': 6480, 'winPercent': 51.27},\n",
       "  '160711560': {'win': 1766, 'lose': 1603, 'total': 3369, 'winPercent': 52.42},\n",
       "  '153577776': {'win': 124, 'lose': 117, 'total': 241, 'winPercent': 51.45},\n",
       "  '106899374': {'win': 1129, 'lose': 1113, 'total': 2242, 'winPercent': 50.36},\n",
       "  '49124637': {'win': 8813, 'lose': 8807, 'total': 17620, 'winPercent': 50.02},\n",
       "  '177507205': {'win': 1033, 'lose': 866, 'total': 1899, 'winPercent': 54.4},\n",
       "  '365515348': {'win': 751, 'lose': 752, 'total': 1503, 'winPercent': 49.97},\n",
       "  '152178101': {'win': 1970, 'lose': 1774, 'total': 3744, 'winPercent': 52.62},\n",
       "  '96635580': {'win': 4078, 'lose': 3981, 'total': 8059, 'winPercent': 50.6},\n",
       "  '451784190': {'win': 1143, 'lose': 1107, 'total': 2250, 'winPercent': 50.8},\n",
       "  '1034504236': {'win': 1830,\n",
       "   'lose': 1633,\n",
       "   'total': 3463,\n",
       "   'winPercent': 52.84},\n",
       "  '103074313': {'win': 2414, 'lose': 2182, 'total': 4596, 'winPercent': 52.52},\n",
       "  '86906654': {'win': 4365, 'lose': 4324, 'total': 8689, 'winPercent': 50.24},\n",
       "  '321048287': {'win': 976, 'lose': 868, 'total': 1844, 'winPercent': 52.93},\n",
       "  '450184907': {'win': 1815, 'lose': 1729, 'total': 3544, 'winPercent': 51.21},\n",
       "  '54814064': {'win': 3240, 'lose': 3150, 'total': 6390, 'winPercent': 50.7},\n",
       "  '6239740': {'win': 6227, 'lose': 5717, 'total': 11944, 'winPercent': 52.13},\n",
       "  '840596597': {'win': 1333, 'lose': 1251, 'total': 2584, 'winPercent': 51.59},\n",
       "  '66102472': {'win': 1989, 'lose': 2063, 'total': 4052, 'winPercent': 49.09},\n",
       "  '81498393': {'win': 1397, 'lose': 1246, 'total': 2643, 'winPercent': 52.86},\n",
       "  '168128918': {'win': 58, 'lose': 49, 'total': 107, 'winPercent': 54.21},\n",
       "  '66402488': {'win': 1183, 'lose': 1061, 'total': 2244, 'winPercent': 52.72},\n",
       "  '116100548': {'win': 6372,\n",
       "   'lose': 6332,\n",
       "   'total': 12704,\n",
       "   'winPercent': 50.16},\n",
       "  '40412137': {'win': 4127, 'lose': 4153, 'total': 8280, 'winPercent': 49.84},\n",
       "  '31604634': {'win': 1199, 'lose': 1156, 'total': 2355, 'winPercent': 50.91},\n",
       "  '19727016': {'win': 1156, 'lose': 1191, 'total': 2347, 'winPercent': 49.25},\n",
       "  '1071224579': {'win': 1367,\n",
       "   'lose': 1270,\n",
       "   'total': 2637,\n",
       "   'winPercent': 51.84},\n",
       "  '169333769': {'win': 2984, 'lose': 2301, 'total': 5285, 'winPercent': 56.46},\n",
       "  '411652122': {'win': 796, 'lose': 886, 'total': 1682, 'winPercent': 47.32},\n",
       "  '1704839': {'win': 1332, 'lose': 1342, 'total': 2674, 'winPercent': 49.81},\n",
       "  '28704323': {'win': 1983, 'lose': 1990, 'total': 3973, 'winPercent': 49.91},\n",
       "  '294155488': {'win': 1517, 'lose': 1520, 'total': 3037, 'winPercent': 49.95},\n",
       "  '15298726': {'win': 2465, 'lose': 2364, 'total': 4829, 'winPercent': 51.05},\n",
       "  '33195456': {'win': 2302, 'lose': 2371, 'total': 4673, 'winPercent': 49.26},\n",
       "  '43829408': {'win': 1226, 'lose': 1284, 'total': 2510, 'winPercent': 48.84},\n",
       "  '71685953': {'win': 1658, 'lose': 1540, 'total': 3198, 'winPercent': 51.84},\n",
       "  '409281933': {'win': 488, 'lose': 494, 'total': 982, 'winPercent': 49.69},\n",
       "  '872967144': {'win': 482, 'lose': 467, 'total': 949, 'winPercent': 50.79},\n",
       "  '204297827': {'win': 1491, 'lose': 1436, 'total': 2927, 'winPercent': 50.94},\n",
       "  '102634038': {'win': 1036, 'lose': 955, 'total': 1991, 'winPercent': 52.03},\n",
       "  '138815735': {'win': 1600, 'lose': 1471, 'total': 3071, 'winPercent': 52.1},\n",
       "  '966447608': {'win': 19, 'lose': 27, 'total': 46, 'winPercent': 41.3},\n",
       "  '881729220': {'win': 709, 'lose': 686, 'total': 1395, 'winPercent': 50.82},\n",
       "  '148144066': {'win': 2135, 'lose': 1975, 'total': 4110, 'winPercent': 51.95},\n",
       "  '30867279': {'win': 2190, 'lose': 2065, 'total': 4255, 'winPercent': 51.47},\n",
       "  '137292004': {'win': 1843, 'lose': 1655, 'total': 3498, 'winPercent': 52.69},\n",
       "  '247843085': {'win': 3067, 'lose': 2789, 'total': 5856, 'winPercent': 52.37},\n",
       "  '311063049': {'win': 928, 'lose': 804, 'total': 1732, 'winPercent': 53.58},\n",
       "  '69105251': {'win': 1876, 'lose': 1755, 'total': 3631, 'winPercent': 51.67},\n",
       "  '112059405': {'win': 2010, 'lose': 1909, 'total': 3919, 'winPercent': 51.29},\n",
       "  '114898431': {'win': 3497, 'lose': 3299, 'total': 6796, 'winPercent': 51.46},\n",
       "  '80581870': {'win': 4157, 'lose': 3231, 'total': 7388, 'winPercent': 56.27},\n",
       "  '141142106': {'win': 986, 'lose': 913, 'total': 1899, 'winPercent': 51.92}},\n",
       " 'Outliers': {'outlierWinsPositive': {'210417653': {'win': 506,\n",
       "    'lose': 352,\n",
       "    'total': 858,\n",
       "    'winPercent': 58.97},\n",
       "   '67099610': {'win': 1540, 'lose': 1256, 'total': 2796, 'winPercent': 55.08},\n",
       "   '1220700485': {'win': 403, 'lose': 320, 'total': 723, 'winPercent': 55.74},\n",
       "   '169333769': {'win': 2984,\n",
       "    'lose': 2301,\n",
       "    'total': 5285,\n",
       "    'winPercent': 56.46},\n",
       "   '80581870': {'win': 4157,\n",
       "    'lose': 3231,\n",
       "    'total': 7388,\n",
       "    'winPercent': 56.27}},\n",
       "  'outlierTotalsPositive': {'16918732': {'win': 6116,\n",
       "    'lose': 5919,\n",
       "    'total': 12035,\n",
       "    'winPercent': 50.82},\n",
       "   '49124637': {'win': 8813,\n",
       "    'lose': 8807,\n",
       "    'total': 17620,\n",
       "    'winPercent': 50.02},\n",
       "   '6239740': {'win': 6227, 'lose': 5717, 'total': 11944, 'winPercent': 52.13},\n",
       "   '116100548': {'win': 6372,\n",
       "    'lose': 6332,\n",
       "    'total': 12704,\n",
       "    'winPercent': 50.16}},\n",
       "  'outliersWinsNegative': {'411652122': {'win': 796,\n",
       "    'lose': 886,\n",
       "    'total': 1682,\n",
       "    'winPercent': 47.32},\n",
       "   '966447608': {'win': 19, 'lose': 27, 'total': 46, 'winPercent': 41.3}},\n",
       "  'outliersTotalNegative': {},\n",
       "  'highWinLowGames': {},\n",
       "  'lowWinLowGames': {}},\n",
       " 'APICalls': 91,\n",
       " 'Times': [6.139846099999886, 174.88636169999972]}"
      ]
     },
     "execution_count": 9,
     "metadata": {},
     "output_type": "execute_result"
    }
   ],
   "source": [
    "Data.getData()"
   ]
  },
  {
   "cell_type": "code",
   "execution_count": 10,
   "metadata": {},
   "outputs": [
    {
     "data": {
      "text/plain": [
       "dict"
      ]
     },
     "execution_count": 10,
     "metadata": {},
     "output_type": "execute_result"
    }
   ],
   "source": [
    "type(Data.getData())"
   ]
  },
  {
   "cell_type": "code",
   "execution_count": 13,
   "metadata": {},
   "outputs": [],
   "source": [
    "myJson = json.dumps(Data.getData())"
   ]
  },
  {
   "cell_type": "code",
   "execution_count": 14,
   "metadata": {},
   "outputs": [
    {
     "data": {
      "text/plain": [
       "'{\"playerData\": {\"79472579\": {\"win\": 1370, \"lose\": 1304, \"total\": 2674, \"winPercent\": 51.23}, \"161391071\": {\"win\": 2438, \"lose\": 2324, \"total\": 4762, \"winPercent\": 51.2}, \"198900798\": {\"win\": 2028, \"lose\": 1984, \"total\": 4012, \"winPercent\": 50.55}, \"210417653\": {\"win\": 506, \"lose\": 352, \"total\": 858, \"winPercent\": 58.97}, \"67099610\": {\"win\": 1540, \"lose\": 1256, \"total\": 2796, \"winPercent\": 55.08}, \"1986753\": {\"win\": 3364, \"lose\": 3378, \"total\": 6742, \"winPercent\": 49.9}, \"446274648\": {\"win\": 1571, \"lose\": 1552, \"total\": 3123, \"winPercent\": 50.3}, \"1220700485\": {\"win\": 403, \"lose\": 320, \"total\": 723, \"winPercent\": 55.74}, \"103553777\": {\"win\": 2325, \"lose\": 2196, \"total\": 4521, \"winPercent\": 51.43}, \"83648474\": {\"win\": 120, \"lose\": 124, \"total\": 244, \"winPercent\": 49.18}, \"86759661\": {\"win\": 3601, \"lose\": 3449, \"total\": 7050, \"winPercent\": 51.08}, \"911545198\": {\"win\": 1152, \"lose\": 1060, \"total\": 2212, \"winPercent\": 52.08}, \"115791930\": {\"win\": 1690, \"lose\": 1612, \"total\": 3302, \"winPercent\": 51.18}, \"219191877\": {\"win\": 1497, \"lose\": 1441, \"total\": 2938, \"winPercent\": 50.95}, \"16918732\": {\"win\": 6116, \"lose\": 5919, \"total\": 12035, \"winPercent\": 50.82}, \"369993022\": {\"win\": 1090, \"lose\": 1031, \"total\": 2121, \"winPercent\": 51.39}, \"138346302\": {\"win\": 3322, \"lose\": 3158, \"total\": 6480, \"winPercent\": 51.27}, \"160711560\": {\"win\": 1766, \"lose\": 1603, \"total\": 3369, \"winPercent\": 52.42}, \"153577776\": {\"win\": 124, \"lose\": 117, \"total\": 241, \"winPercent\": 51.45}, \"106899374\": {\"win\": 1129, \"lose\": 1113, \"total\": 2242, \"winPercent\": 50.36}, \"49124637\": {\"win\": 8813, \"lose\": 8807, \"total\": 17620, \"winPercent\": 50.02}, \"177507205\": {\"win\": 1033, \"lose\": 866, \"total\": 1899, \"winPercent\": 54.4}, \"365515348\": {\"win\": 751, \"lose\": 752, \"total\": 1503, \"winPercent\": 49.97}, \"152178101\": {\"win\": 1970, \"lose\": 1774, \"total\": 3744, \"winPercent\": 52.62}, \"96635580\": {\"win\": 4078, \"lose\": 3981, \"total\": 8059, \"winPercent\": 50.6}, \"451784190\": {\"win\": 1143, \"lose\": 1107, \"total\": 2250, \"winPercent\": 50.8}, \"1034504236\": {\"win\": 1830, \"lose\": 1633, \"total\": 3463, \"winPercent\": 52.84}, \"103074313\": {\"win\": 2414, \"lose\": 2182, \"total\": 4596, \"winPercent\": 52.52}, \"86906654\": {\"win\": 4365, \"lose\": 4324, \"total\": 8689, \"winPercent\": 50.24}, \"321048287\": {\"win\": 976, \"lose\": 868, \"total\": 1844, \"winPercent\": 52.93}, \"450184907\": {\"win\": 1815, \"lose\": 1729, \"total\": 3544, \"winPercent\": 51.21}, \"54814064\": {\"win\": 3240, \"lose\": 3150, \"total\": 6390, \"winPercent\": 50.7}, \"6239740\": {\"win\": 6227, \"lose\": 5717, \"total\": 11944, \"winPercent\": 52.13}, \"840596597\": {\"win\": 1333, \"lose\": 1251, \"total\": 2584, \"winPercent\": 51.59}, \"66102472\": {\"win\": 1989, \"lose\": 2063, \"total\": 4052, \"winPercent\": 49.09}, \"81498393\": {\"win\": 1397, \"lose\": 1246, \"total\": 2643, \"winPercent\": 52.86}, \"168128918\": {\"win\": 58, \"lose\": 49, \"total\": 107, \"winPercent\": 54.21}, \"66402488\": {\"win\": 1183, \"lose\": 1061, \"total\": 2244, \"winPercent\": 52.72}, \"116100548\": {\"win\": 6372, \"lose\": 6332, \"total\": 12704, \"winPercent\": 50.16}, \"40412137\": {\"win\": 4127, \"lose\": 4153, \"total\": 8280, \"winPercent\": 49.84}, \"31604634\": {\"win\": 1199, \"lose\": 1156, \"total\": 2355, \"winPercent\": 50.91}, \"19727016\": {\"win\": 1156, \"lose\": 1191, \"total\": 2347, \"winPercent\": 49.25}, \"1071224579\": {\"win\": 1367, \"lose\": 1270, \"total\": 2637, \"winPercent\": 51.84}, \"169333769\": {\"win\": 2984, \"lose\": 2301, \"total\": 5285, \"winPercent\": 56.46}, \"411652122\": {\"win\": 796, \"lose\": 886, \"total\": 1682, \"winPercent\": 47.32}, \"1704839\": {\"win\": 1332, \"lose\": 1342, \"total\": 2674, \"winPercent\": 49.81}, \"28704323\": {\"win\": 1983, \"lose\": 1990, \"total\": 3973, \"winPercent\": 49.91}, \"294155488\": {\"win\": 1517, \"lose\": 1520, \"total\": 3037, \"winPercent\": 49.95}, \"15298726\": {\"win\": 2465, \"lose\": 2364, \"total\": 4829, \"winPercent\": 51.05}, \"33195456\": {\"win\": 2302, \"lose\": 2371, \"total\": 4673, \"winPercent\": 49.26}, \"43829408\": {\"win\": 1226, \"lose\": 1284, \"total\": 2510, \"winPercent\": 48.84}, \"71685953\": {\"win\": 1658, \"lose\": 1540, \"total\": 3198, \"winPercent\": 51.84}, \"409281933\": {\"win\": 488, \"lose\": 494, \"total\": 982, \"winPercent\": 49.69}, \"872967144\": {\"win\": 482, \"lose\": 467, \"total\": 949, \"winPercent\": 50.79}, \"204297827\": {\"win\": 1491, \"lose\": 1436, \"total\": 2927, \"winPercent\": 50.94}, \"102634038\": {\"win\": 1036, \"lose\": 955, \"total\": 1991, \"winPercent\": 52.03}, \"138815735\": {\"win\": 1600, \"lose\": 1471, \"total\": 3071, \"winPercent\": 52.1}, \"966447608\": {\"win\": 19, \"lose\": 27, \"total\": 46, \"winPercent\": 41.3}, \"881729220\": {\"win\": 709, \"lose\": 686, \"total\": 1395, \"winPercent\": 50.82}, \"148144066\": {\"win\": 2135, \"lose\": 1975, \"total\": 4110, \"winPercent\": 51.95}, \"30867279\": {\"win\": 2190, \"lose\": 2065, \"total\": 4255, \"winPercent\": 51.47}, \"137292004\": {\"win\": 1843, \"lose\": 1655, \"total\": 3498, \"winPercent\": 52.69}, \"247843085\": {\"win\": 3067, \"lose\": 2789, \"total\": 5856, \"winPercent\": 52.37}, \"311063049\": {\"win\": 928, \"lose\": 804, \"total\": 1732, \"winPercent\": 53.58}, \"69105251\": {\"win\": 1876, \"lose\": 1755, \"total\": 3631, \"winPercent\": 51.67}, \"112059405\": {\"win\": 2010, \"lose\": 1909, \"total\": 3919, \"winPercent\": 51.29}, \"114898431\": {\"win\": 3497, \"lose\": 3299, \"total\": 6796, \"winPercent\": 51.46}, \"80581870\": {\"win\": 4157, \"lose\": 3231, \"total\": 7388, \"winPercent\": 56.27}, \"141142106\": {\"win\": 986, \"lose\": 913, \"total\": 1899, \"winPercent\": 51.92}}, \"Outliers\": {\"outlierWinsPositive\": {\"210417653\": {\"win\": 506, \"lose\": 352, \"total\": 858, \"winPercent\": 58.97}, \"67099610\": {\"win\": 1540, \"lose\": 1256, \"total\": 2796, \"winPercent\": 55.08}, \"1220700485\": {\"win\": 403, \"lose\": 320, \"total\": 723, \"winPercent\": 55.74}, \"169333769\": {\"win\": 2984, \"lose\": 2301, \"total\": 5285, \"winPercent\": 56.46}, \"80581870\": {\"win\": 4157, \"lose\": 3231, \"total\": 7388, \"winPercent\": 56.27}}, \"outlierTotalsPositive\": {\"16918732\": {\"win\": 6116, \"lose\": 5919, \"total\": 12035, \"winPercent\": 50.82}, \"49124637\": {\"win\": 8813, \"lose\": 8807, \"total\": 17620, \"winPercent\": 50.02}, \"6239740\": {\"win\": 6227, \"lose\": 5717, \"total\": 11944, \"winPercent\": 52.13}, \"116100548\": {\"win\": 6372, \"lose\": 6332, \"total\": 12704, \"winPercent\": 50.16}}, \"outliersWinsNegative\": {\"411652122\": {\"win\": 796, \"lose\": 886, \"total\": 1682, \"winPercent\": 47.32}, \"966447608\": {\"win\": 19, \"lose\": 27, \"total\": 46, \"winPercent\": 41.3}}, \"outliersTotalNegative\": {}, \"highWinLowGames\": {}, \"lowWinLowGames\": {}}, \"APICalls\": 91, \"Times\": [6.139846099999886, 174.88636169999972]}'"
      ]
     },
     "execution_count": 14,
     "metadata": {},
     "output_type": "execute_result"
    }
   ],
   "source": [
    "myJson"
   ]
  },
  {
   "cell_type": "code",
   "execution_count": 15,
   "metadata": {},
   "outputs": [
    {
     "data": {
      "text/plain": [
       "str"
      ]
     },
     "execution_count": 15,
     "metadata": {},
     "output_type": "execute_result"
    }
   ],
   "source": [
    "type(myJson)"
   ]
  },
  {
   "cell_type": "code",
   "execution_count": null,
   "metadata": {},
   "outputs": [],
   "source": []
  }
 ],
 "metadata": {
  "kernelspec": {
   "display_name": "Python 3",
   "language": "python",
   "name": "python3"
  },
  "language_info": {
   "codemirror_mode": {
    "name": "ipython",
    "version": 3
   },
   "file_extension": ".py",
   "mimetype": "text/x-python",
   "name": "python",
   "nbconvert_exporter": "python",
   "pygments_lexer": "ipython3",
   "version": "3.10.10"
  },
  "orig_nbformat": 4
 },
 "nbformat": 4,
 "nbformat_minor": 2
}
